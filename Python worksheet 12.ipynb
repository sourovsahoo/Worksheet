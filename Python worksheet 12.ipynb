{
 "cells": [
  {
   "cell_type": "code",
   "execution_count": 1,
   "metadata": {},
   "outputs": [],
   "source": [
    "import numpy as np\n",
    "import pandas as pd"
   ]
  },
  {
   "cell_type": "code",
   "execution_count": 2,
   "metadata": {},
   "outputs": [],
   "source": [
    "df=pd.read_csv('data.csv')\n",
    "pd.set_option('display.max_columns',None)"
   ]
  },
  {
   "cell_type": "code",
   "execution_count": 3,
   "metadata": {
    "scrolled": true
   },
   "outputs": [
    {
     "data": {
      "text/html": [
       "<div>\n",
       "<style scoped>\n",
       "    .dataframe tbody tr th:only-of-type {\n",
       "        vertical-align: middle;\n",
       "    }\n",
       "\n",
       "    .dataframe tbody tr th {\n",
       "        vertical-align: top;\n",
       "    }\n",
       "\n",
       "    .dataframe thead th {\n",
       "        text-align: right;\n",
       "    }\n",
       "</style>\n",
       "<table border=\"1\" class=\"dataframe\">\n",
       "  <thead>\n",
       "    <tr style=\"text-align: right;\">\n",
       "      <th></th>\n",
       "      <th>Suburb</th>\n",
       "      <th>Address</th>\n",
       "      <th>Rooms</th>\n",
       "      <th>Type</th>\n",
       "      <th>Price</th>\n",
       "      <th>Method</th>\n",
       "      <th>SellerG</th>\n",
       "      <th>Date</th>\n",
       "      <th>Distance</th>\n",
       "      <th>Postcode</th>\n",
       "      <th>Bedroom2</th>\n",
       "      <th>Bathroom</th>\n",
       "      <th>Car</th>\n",
       "      <th>Landsize</th>\n",
       "      <th>BuildingArea</th>\n",
       "      <th>YearBuilt</th>\n",
       "      <th>CouncilArea</th>\n",
       "      <th>Lattitude</th>\n",
       "      <th>Longtitude</th>\n",
       "      <th>Regionname</th>\n",
       "      <th>Propertycount</th>\n",
       "    </tr>\n",
       "  </thead>\n",
       "  <tbody>\n",
       "    <tr>\n",
       "      <th>0</th>\n",
       "      <td>Abbotsford</td>\n",
       "      <td>68 Studley St</td>\n",
       "      <td>2.0</td>\n",
       "      <td>h</td>\n",
       "      <td>NaN</td>\n",
       "      <td>SS</td>\n",
       "      <td>Jellis</td>\n",
       "      <td>03-09-2016</td>\n",
       "      <td>2.5</td>\n",
       "      <td>3067.0</td>\n",
       "      <td>2.0</td>\n",
       "      <td>1.0</td>\n",
       "      <td>1.0</td>\n",
       "      <td>126.0</td>\n",
       "      <td>NaN</td>\n",
       "      <td>NaN</td>\n",
       "      <td>Yarra</td>\n",
       "      <td>-37.8014</td>\n",
       "      <td>144.9958</td>\n",
       "      <td>Northern Metropolitan</td>\n",
       "      <td>4019.0</td>\n",
       "    </tr>\n",
       "    <tr>\n",
       "      <th>1</th>\n",
       "      <td>Abbotsford</td>\n",
       "      <td>85 Turner St</td>\n",
       "      <td>2.0</td>\n",
       "      <td>h</td>\n",
       "      <td>1480000.0</td>\n",
       "      <td>S</td>\n",
       "      <td>Biggin</td>\n",
       "      <td>03-12-2016</td>\n",
       "      <td>2.5</td>\n",
       "      <td>3067.0</td>\n",
       "      <td>2.0</td>\n",
       "      <td>1.0</td>\n",
       "      <td>1.0</td>\n",
       "      <td>202.0</td>\n",
       "      <td>NaN</td>\n",
       "      <td>NaN</td>\n",
       "      <td>Yarra</td>\n",
       "      <td>-37.7996</td>\n",
       "      <td>144.9984</td>\n",
       "      <td>Northern Metropolitan</td>\n",
       "      <td>4019.0</td>\n",
       "    </tr>\n",
       "    <tr>\n",
       "      <th>2</th>\n",
       "      <td>Abbotsford</td>\n",
       "      <td>25 Bloomburg St</td>\n",
       "      <td>2.0</td>\n",
       "      <td>h</td>\n",
       "      <td>1035000.0</td>\n",
       "      <td>S</td>\n",
       "      <td>Biggin</td>\n",
       "      <td>04-02-2016</td>\n",
       "      <td>2.5</td>\n",
       "      <td>3067.0</td>\n",
       "      <td>2.0</td>\n",
       "      <td>1.0</td>\n",
       "      <td>0.0</td>\n",
       "      <td>156.0</td>\n",
       "      <td>79.0</td>\n",
       "      <td>1900.0</td>\n",
       "      <td>Yarra</td>\n",
       "      <td>-37.8079</td>\n",
       "      <td>144.9934</td>\n",
       "      <td>Northern Metropolitan</td>\n",
       "      <td>4019.0</td>\n",
       "    </tr>\n",
       "    <tr>\n",
       "      <th>3</th>\n",
       "      <td>Abbotsford</td>\n",
       "      <td>18/659 Victoria St</td>\n",
       "      <td>3.0</td>\n",
       "      <td>u</td>\n",
       "      <td>NaN</td>\n",
       "      <td>VB</td>\n",
       "      <td>Rounds</td>\n",
       "      <td>04-02-2016</td>\n",
       "      <td>2.5</td>\n",
       "      <td>3067.0</td>\n",
       "      <td>3.0</td>\n",
       "      <td>2.0</td>\n",
       "      <td>1.0</td>\n",
       "      <td>0.0</td>\n",
       "      <td>NaN</td>\n",
       "      <td>NaN</td>\n",
       "      <td>Yarra</td>\n",
       "      <td>-37.8114</td>\n",
       "      <td>145.0116</td>\n",
       "      <td>Northern Metropolitan</td>\n",
       "      <td>4019.0</td>\n",
       "    </tr>\n",
       "    <tr>\n",
       "      <th>4</th>\n",
       "      <td>Abbotsford</td>\n",
       "      <td>5 Charles St</td>\n",
       "      <td>3.0</td>\n",
       "      <td>h</td>\n",
       "      <td>1465000.0</td>\n",
       "      <td>SP</td>\n",
       "      <td>Biggin</td>\n",
       "      <td>04-03-2017</td>\n",
       "      <td>2.5</td>\n",
       "      <td>3067.0</td>\n",
       "      <td>3.0</td>\n",
       "      <td>2.0</td>\n",
       "      <td>0.0</td>\n",
       "      <td>134.0</td>\n",
       "      <td>150.0</td>\n",
       "      <td>1900.0</td>\n",
       "      <td>Yarra</td>\n",
       "      <td>-37.8093</td>\n",
       "      <td>144.9944</td>\n",
       "      <td>Northern Metropolitan</td>\n",
       "      <td>4019.0</td>\n",
       "    </tr>\n",
       "  </tbody>\n",
       "</table>\n",
       "</div>"
      ],
      "text/plain": [
       "       Suburb             Address  Rooms Type      Price Method SellerG  \\\n",
       "0  Abbotsford       68 Studley St    2.0    h        NaN     SS  Jellis   \n",
       "1  Abbotsford        85 Turner St    2.0    h  1480000.0      S  Biggin   \n",
       "2  Abbotsford     25 Bloomburg St    2.0    h  1035000.0      S  Biggin   \n",
       "3  Abbotsford  18/659 Victoria St    3.0    u        NaN     VB  Rounds   \n",
       "4  Abbotsford        5 Charles St    3.0    h  1465000.0     SP  Biggin   \n",
       "\n",
       "         Date  Distance  Postcode  Bedroom2  Bathroom  Car  Landsize  \\\n",
       "0  03-09-2016       2.5    3067.0       2.0       1.0  1.0     126.0   \n",
       "1  03-12-2016       2.5    3067.0       2.0       1.0  1.0     202.0   \n",
       "2  04-02-2016       2.5    3067.0       2.0       1.0  0.0     156.0   \n",
       "3  04-02-2016       2.5    3067.0       3.0       2.0  1.0       0.0   \n",
       "4  04-03-2017       2.5    3067.0       3.0       2.0  0.0     134.0   \n",
       "\n",
       "   BuildingArea  YearBuilt CouncilArea  Lattitude  Longtitude  \\\n",
       "0           NaN        NaN       Yarra   -37.8014    144.9958   \n",
       "1           NaN        NaN       Yarra   -37.7996    144.9984   \n",
       "2          79.0     1900.0       Yarra   -37.8079    144.9934   \n",
       "3           NaN        NaN       Yarra   -37.8114    145.0116   \n",
       "4         150.0     1900.0       Yarra   -37.8093    144.9944   \n",
       "\n",
       "              Regionname  Propertycount  \n",
       "0  Northern Metropolitan         4019.0  \n",
       "1  Northern Metropolitan         4019.0  \n",
       "2  Northern Metropolitan         4019.0  \n",
       "3  Northern Metropolitan         4019.0  \n",
       "4  Northern Metropolitan         4019.0  "
      ]
     },
     "execution_count": 3,
     "metadata": {},
     "output_type": "execute_result"
    }
   ],
   "source": [
    "df.head()"
   ]
  },
  {
   "cell_type": "markdown",
   "metadata": {},
   "source": [
    "# 1.Determine the no. of rows and no. of columns in the dataset."
   ]
  },
  {
   "cell_type": "code",
   "execution_count": 4,
   "metadata": {},
   "outputs": [
    {
     "data": {
      "text/plain": [
       "(23678, 21)"
      ]
     },
     "execution_count": 4,
     "metadata": {},
     "output_type": "execute_result"
    }
   ],
   "source": [
    "df.shape"
   ]
  },
  {
   "cell_type": "code",
   "execution_count": 5,
   "metadata": {},
   "outputs": [
    {
     "name": "stdout",
     "output_type": "stream",
     "text": [
      "rows= 23678\n",
      "columns= 21\n"
     ]
    }
   ],
   "source": [
    "print('rows=',df.shape[0])\n",
    "print('columns=',df.shape[1])"
   ]
  },
  {
   "cell_type": "markdown",
   "metadata": {},
   "source": [
    "# 2. Display the datatypes of each column."
   ]
  },
  {
   "cell_type": "code",
   "execution_count": 6,
   "metadata": {},
   "outputs": [
    {
     "data": {
      "text/plain": [
       "Suburb            object\n",
       "Address           object\n",
       "Rooms            float64\n",
       "Type              object\n",
       "Price            float64\n",
       "Method            object\n",
       "SellerG           object\n",
       "Date              object\n",
       "Distance         float64\n",
       "Postcode         float64\n",
       "Bedroom2         float64\n",
       "Bathroom         float64\n",
       "Car              float64\n",
       "Landsize         float64\n",
       "BuildingArea     float64\n",
       "YearBuilt        float64\n",
       "CouncilArea       object\n",
       "Lattitude        float64\n",
       "Longtitude       float64\n",
       "Regionname        object\n",
       "Propertycount    float64\n",
       "dtype: object"
      ]
     },
     "execution_count": 6,
     "metadata": {},
     "output_type": "execute_result"
    }
   ],
   "source": [
    "df.dtypes"
   ]
  },
  {
   "cell_type": "markdown",
   "metadata": {},
   "source": [
    "# 3. Determine the row indexes of rows having 'all' null values (i.e. empty rows)"
   ]
  },
  {
   "cell_type": "code",
   "execution_count": 7,
   "metadata": {},
   "outputs": [],
   "source": [
    "rows_with_all_nan = [index for index, row in df.iterrows() if row.isnull().all()]"
   ]
  },
  {
   "cell_type": "code",
   "execution_count": 8,
   "metadata": {},
   "outputs": [
    {
     "data": {
      "text/plain": [
       "[31,\n",
       " 1145,\n",
       " 1348,\n",
       " 2119,\n",
       " 3277,\n",
       " 3288,\n",
       " 3745,\n",
       " 3752,\n",
       " 3798,\n",
       " 3855,\n",
       " 4089,\n",
       " 4096,\n",
       " 4164,\n",
       " 4218,\n",
       " 4222,\n",
       " 4326,\n",
       " 4649,\n",
       " 4897,\n",
       " 4942,\n",
       " 5052,\n",
       " 5223,\n",
       " 5265,\n",
       " 5328,\n",
       " 5331,\n",
       " 5383,\n",
       " 5405,\n",
       " 5625,\n",
       " 5741,\n",
       " 5952,\n",
       " 6125,\n",
       " 6133,\n",
       " 6140,\n",
       " 6143,\n",
       " 6251,\n",
       " 6326,\n",
       " 6406,\n",
       " 6446,\n",
       " 6703,\n",
       " 6717,\n",
       " 6853,\n",
       " 6921,\n",
       " 7086,\n",
       " 7261,\n",
       " 7348,\n",
       " 7596,\n",
       " 7743,\n",
       " 7759,\n",
       " 7762,\n",
       " 7775,\n",
       " 8054,\n",
       " 8095,\n",
       " 8118,\n",
       " 8190,\n",
       " 8409,\n",
       " 8501,\n",
       " 8652,\n",
       " 8816,\n",
       " 8974,\n",
       " 9098,\n",
       " 9210,\n",
       " 9232,\n",
       " 9450,\n",
       " 9455,\n",
       " 9586,\n",
       " 9761,\n",
       " 9888,\n",
       " 9894,\n",
       " 10009,\n",
       " 10125,\n",
       " 10390,\n",
       " 10475,\n",
       " 10738,\n",
       " 10952,\n",
       " 11334,\n",
       " 11348,\n",
       " 11552,\n",
       " 11755,\n",
       " 12087,\n",
       " 12441,\n",
       " 12559,\n",
       " 12997,\n",
       " 13066,\n",
       " 13381,\n",
       " 13647,\n",
       " 13725,\n",
       " 14009,\n",
       " 14471,\n",
       " 14644,\n",
       " 14963,\n",
       " 15094,\n",
       " 15214,\n",
       " 15771,\n",
       " 16044,\n",
       " 16252,\n",
       " 16563,\n",
       " 16655,\n",
       " 16848,\n",
       " 17111,\n",
       " 17246,\n",
       " 17611,\n",
       " 17741,\n",
       " 18077,\n",
       " 18148,\n",
       " 18251,\n",
       " 18374,\n",
       " 18476,\n",
       " 18547,\n",
       " 18671,\n",
       " 18742,\n",
       " 18884,\n",
       " 19001,\n",
       " 19287,\n",
       " 19641,\n",
       " 19949,\n",
       " 20087,\n",
       " 20422,\n",
       " 20496,\n",
       " 20695,\n",
       " 20838,\n",
       " 20880,\n",
       " 21055,\n",
       " 21220,\n",
       " 21343,\n",
       " 21602,\n",
       " 22003,\n",
       " 22109,\n",
       " 22288,\n",
       " 22704,\n",
       " 22918,\n",
       " 23153,\n",
       " 23341]"
      ]
     },
     "execution_count": 8,
     "metadata": {},
     "output_type": "execute_result"
    }
   ],
   "source": [
    "rows_with_all_nan"
   ]
  },
  {
   "cell_type": "code",
   "execution_count": 9,
   "metadata": {},
   "outputs": [
    {
     "data": {
      "text/plain": [
       "131"
      ]
     },
     "execution_count": 9,
     "metadata": {},
     "output_type": "execute_result"
    }
   ],
   "source": [
    "len(rows_with_all_nan) #Total number of empty rows"
   ]
  },
  {
   "cell_type": "code",
   "execution_count": 10,
   "metadata": {},
   "outputs": [
    {
     "data": {
      "text/plain": [
       "Suburb             131\n",
       "Address            131\n",
       "Rooms              131\n",
       "Type               131\n",
       "Price             5282\n",
       "Method             131\n",
       "SellerG            131\n",
       "Date               131\n",
       "Distance           132\n",
       "Postcode           132\n",
       "Bedroom2          4612\n",
       "Bathroom          4615\n",
       "Car               4757\n",
       "Landsize          6268\n",
       "BuildingArea     13660\n",
       "YearBuilt        12138\n",
       "CouncilArea       8022\n",
       "Lattitude         4435\n",
       "Longtitude        4435\n",
       "Regionname         132\n",
       "Propertycount      132\n",
       "dtype: int64"
      ]
     },
     "execution_count": 10,
     "metadata": {},
     "output_type": "execute_result"
    }
   ],
   "source": [
    "df.isnull().sum()"
   ]
  },
  {
   "cell_type": "markdown",
   "metadata": {},
   "source": [
    "# 4. Determine the total number of empty rows(131,from above) and their percentage in whole dataset and remove them. "
   ]
  },
  {
   "cell_type": "markdown",
   "metadata": {},
   "source": [
    "# percentage of data with all rows with null values."
   ]
  },
  {
   "cell_type": "code",
   "execution_count": 11,
   "metadata": {},
   "outputs": [
    {
     "data": {
      "text/plain": [
       "0.5532561871779711"
      ]
     },
     "execution_count": 11,
     "metadata": {},
     "output_type": "execute_result"
    }
   ],
   "source": [
    "(len(rows_with_all_nan)/df.shape[0])*100 "
   ]
  },
  {
   "cell_type": "code",
   "execution_count": 12,
   "metadata": {},
   "outputs": [],
   "source": [
    "#just 0.55% < 1% of the rows are completely null.this is well within range.we can delete the rows."
   ]
  },
  {
   "cell_type": "markdown",
   "metadata": {},
   "source": [
    "# Dropping rows where all the values are NAN"
   ]
  },
  {
   "cell_type": "code",
   "execution_count": 13,
   "metadata": {},
   "outputs": [
    {
     "data": {
      "text/html": [
       "<div>\n",
       "<style scoped>\n",
       "    .dataframe tbody tr th:only-of-type {\n",
       "        vertical-align: middle;\n",
       "    }\n",
       "\n",
       "    .dataframe tbody tr th {\n",
       "        vertical-align: top;\n",
       "    }\n",
       "\n",
       "    .dataframe thead th {\n",
       "        text-align: right;\n",
       "    }\n",
       "</style>\n",
       "<table border=\"1\" class=\"dataframe\">\n",
       "  <thead>\n",
       "    <tr style=\"text-align: right;\">\n",
       "      <th></th>\n",
       "      <th>Suburb</th>\n",
       "      <th>Address</th>\n",
       "      <th>Rooms</th>\n",
       "      <th>Type</th>\n",
       "      <th>Price</th>\n",
       "      <th>Method</th>\n",
       "      <th>SellerG</th>\n",
       "      <th>Date</th>\n",
       "      <th>Distance</th>\n",
       "      <th>Postcode</th>\n",
       "      <th>Bedroom2</th>\n",
       "      <th>Bathroom</th>\n",
       "      <th>Car</th>\n",
       "      <th>Landsize</th>\n",
       "      <th>BuildingArea</th>\n",
       "      <th>YearBuilt</th>\n",
       "      <th>CouncilArea</th>\n",
       "      <th>Lattitude</th>\n",
       "      <th>Longtitude</th>\n",
       "      <th>Regionname</th>\n",
       "      <th>Propertycount</th>\n",
       "    </tr>\n",
       "  </thead>\n",
       "  <tbody>\n",
       "    <tr>\n",
       "      <th>0</th>\n",
       "      <td>Abbotsford</td>\n",
       "      <td>68 Studley St</td>\n",
       "      <td>2.0</td>\n",
       "      <td>h</td>\n",
       "      <td>NaN</td>\n",
       "      <td>SS</td>\n",
       "      <td>Jellis</td>\n",
       "      <td>03-09-2016</td>\n",
       "      <td>2.5</td>\n",
       "      <td>3067.0</td>\n",
       "      <td>2.0</td>\n",
       "      <td>1.0</td>\n",
       "      <td>1.0</td>\n",
       "      <td>126.0</td>\n",
       "      <td>NaN</td>\n",
       "      <td>NaN</td>\n",
       "      <td>Yarra</td>\n",
       "      <td>-37.8014</td>\n",
       "      <td>144.9958</td>\n",
       "      <td>Northern Metropolitan</td>\n",
       "      <td>4019.0</td>\n",
       "    </tr>\n",
       "    <tr>\n",
       "      <th>1</th>\n",
       "      <td>Abbotsford</td>\n",
       "      <td>85 Turner St</td>\n",
       "      <td>2.0</td>\n",
       "      <td>h</td>\n",
       "      <td>1480000.0</td>\n",
       "      <td>S</td>\n",
       "      <td>Biggin</td>\n",
       "      <td>03-12-2016</td>\n",
       "      <td>2.5</td>\n",
       "      <td>3067.0</td>\n",
       "      <td>2.0</td>\n",
       "      <td>1.0</td>\n",
       "      <td>1.0</td>\n",
       "      <td>202.0</td>\n",
       "      <td>NaN</td>\n",
       "      <td>NaN</td>\n",
       "      <td>Yarra</td>\n",
       "      <td>-37.7996</td>\n",
       "      <td>144.9984</td>\n",
       "      <td>Northern Metropolitan</td>\n",
       "      <td>4019.0</td>\n",
       "    </tr>\n",
       "    <tr>\n",
       "      <th>2</th>\n",
       "      <td>Abbotsford</td>\n",
       "      <td>25 Bloomburg St</td>\n",
       "      <td>2.0</td>\n",
       "      <td>h</td>\n",
       "      <td>1035000.0</td>\n",
       "      <td>S</td>\n",
       "      <td>Biggin</td>\n",
       "      <td>04-02-2016</td>\n",
       "      <td>2.5</td>\n",
       "      <td>3067.0</td>\n",
       "      <td>2.0</td>\n",
       "      <td>1.0</td>\n",
       "      <td>0.0</td>\n",
       "      <td>156.0</td>\n",
       "      <td>79.0</td>\n",
       "      <td>1900.0</td>\n",
       "      <td>Yarra</td>\n",
       "      <td>-37.8079</td>\n",
       "      <td>144.9934</td>\n",
       "      <td>Northern Metropolitan</td>\n",
       "      <td>4019.0</td>\n",
       "    </tr>\n",
       "    <tr>\n",
       "      <th>3</th>\n",
       "      <td>Abbotsford</td>\n",
       "      <td>18/659 Victoria St</td>\n",
       "      <td>3.0</td>\n",
       "      <td>u</td>\n",
       "      <td>NaN</td>\n",
       "      <td>VB</td>\n",
       "      <td>Rounds</td>\n",
       "      <td>04-02-2016</td>\n",
       "      <td>2.5</td>\n",
       "      <td>3067.0</td>\n",
       "      <td>3.0</td>\n",
       "      <td>2.0</td>\n",
       "      <td>1.0</td>\n",
       "      <td>0.0</td>\n",
       "      <td>NaN</td>\n",
       "      <td>NaN</td>\n",
       "      <td>Yarra</td>\n",
       "      <td>-37.8114</td>\n",
       "      <td>145.0116</td>\n",
       "      <td>Northern Metropolitan</td>\n",
       "      <td>4019.0</td>\n",
       "    </tr>\n",
       "    <tr>\n",
       "      <th>4</th>\n",
       "      <td>Abbotsford</td>\n",
       "      <td>5 Charles St</td>\n",
       "      <td>3.0</td>\n",
       "      <td>h</td>\n",
       "      <td>1465000.0</td>\n",
       "      <td>SP</td>\n",
       "      <td>Biggin</td>\n",
       "      <td>04-03-2017</td>\n",
       "      <td>2.5</td>\n",
       "      <td>3067.0</td>\n",
       "      <td>3.0</td>\n",
       "      <td>2.0</td>\n",
       "      <td>0.0</td>\n",
       "      <td>134.0</td>\n",
       "      <td>150.0</td>\n",
       "      <td>1900.0</td>\n",
       "      <td>Yarra</td>\n",
       "      <td>-37.8093</td>\n",
       "      <td>144.9944</td>\n",
       "      <td>Northern Metropolitan</td>\n",
       "      <td>4019.0</td>\n",
       "    </tr>\n",
       "  </tbody>\n",
       "</table>\n",
       "</div>"
      ],
      "text/plain": [
       "       Suburb             Address  Rooms Type      Price Method SellerG  \\\n",
       "0  Abbotsford       68 Studley St    2.0    h        NaN     SS  Jellis   \n",
       "1  Abbotsford        85 Turner St    2.0    h  1480000.0      S  Biggin   \n",
       "2  Abbotsford     25 Bloomburg St    2.0    h  1035000.0      S  Biggin   \n",
       "3  Abbotsford  18/659 Victoria St    3.0    u        NaN     VB  Rounds   \n",
       "4  Abbotsford        5 Charles St    3.0    h  1465000.0     SP  Biggin   \n",
       "\n",
       "         Date  Distance  Postcode  Bedroom2  Bathroom  Car  Landsize  \\\n",
       "0  03-09-2016       2.5    3067.0       2.0       1.0  1.0     126.0   \n",
       "1  03-12-2016       2.5    3067.0       2.0       1.0  1.0     202.0   \n",
       "2  04-02-2016       2.5    3067.0       2.0       1.0  0.0     156.0   \n",
       "3  04-02-2016       2.5    3067.0       3.0       2.0  1.0       0.0   \n",
       "4  04-03-2017       2.5    3067.0       3.0       2.0  0.0     134.0   \n",
       "\n",
       "   BuildingArea  YearBuilt CouncilArea  Lattitude  Longtitude  \\\n",
       "0           NaN        NaN       Yarra   -37.8014    144.9958   \n",
       "1           NaN        NaN       Yarra   -37.7996    144.9984   \n",
       "2          79.0     1900.0       Yarra   -37.8079    144.9934   \n",
       "3           NaN        NaN       Yarra   -37.8114    145.0116   \n",
       "4         150.0     1900.0       Yarra   -37.8093    144.9944   \n",
       "\n",
       "              Regionname  Propertycount  \n",
       "0  Northern Metropolitan         4019.0  \n",
       "1  Northern Metropolitan         4019.0  \n",
       "2  Northern Metropolitan         4019.0  \n",
       "3  Northern Metropolitan         4019.0  \n",
       "4  Northern Metropolitan         4019.0  "
      ]
     },
     "execution_count": 13,
     "metadata": {},
     "output_type": "execute_result"
    }
   ],
   "source": [
    "#creating new dataframe df1\n",
    "\n",
    "df1=df.dropna(how='all')\n",
    "df1.head()"
   ]
  },
  {
   "cell_type": "code",
   "execution_count": 14,
   "metadata": {},
   "outputs": [
    {
     "data": {
      "text/plain": [
       "(23547, 21)"
      ]
     },
     "execution_count": 14,
     "metadata": {},
     "output_type": "execute_result"
    }
   ],
   "source": [
    "df1.shape"
   ]
  },
  {
   "cell_type": "code",
   "execution_count": 15,
   "metadata": {},
   "outputs": [
    {
     "data": {
      "text/plain": [
       "131"
      ]
     },
     "execution_count": 15,
     "metadata": {},
     "output_type": "execute_result"
    }
   ],
   "source": [
    "df_all_null=df.shape[0]-df1.shape[0]\n",
    "df_all_null                           #131 rows with all null values"
   ]
  },
  {
   "cell_type": "code",
   "execution_count": 17,
   "metadata": {},
   "outputs": [
    {
     "data": {
      "text/plain": [
       "131"
      ]
     },
     "execution_count": 17,
     "metadata": {},
     "output_type": "execute_result"
    }
   ],
   "source": [
    "len(rows_with_all_nan) #confirmation"
   ]
  },
  {
   "cell_type": "markdown",
   "metadata": {},
   "source": [
    "# 5. Determine the column names having missing values"
   ]
  },
  {
   "cell_type": "code",
   "execution_count": 18,
   "metadata": {},
   "outputs": [
    {
     "name": "stdout",
     "output_type": "stream",
     "text": [
      "Price\n",
      "Distance\n",
      "Postcode\n",
      "Bedroom2\n",
      "Bathroom\n",
      "Car\n",
      "Landsize\n",
      "BuildingArea\n",
      "YearBuilt\n",
      "CouncilArea\n",
      "Lattitude\n",
      "Longtitude\n",
      "Regionname\n",
      "Propertycount\n"
     ]
    }
   ],
   "source": [
    "features_with_na=[features for features in df1.columns if df1[features].isnull().sum()>=1]\n",
    "\n",
    "for i in features_with_na:\n",
    "    print(i)  "
   ]
  },
  {
   "cell_type": "markdown",
   "metadata": {},
   "source": [
    "# 6. Determine the missing values and their percentage in each column"
   ]
  },
  {
   "cell_type": "code",
   "execution_count": 19,
   "metadata": {},
   "outputs": [
    {
     "name": "stdout",
     "output_type": "stream",
     "text": [
      "Price 21.8754 % missing values\n",
      "Distance 0.0042 % missing values\n",
      "Postcode 0.0042 % missing values\n",
      "Bedroom2 19.03 % missing values\n",
      "Bathroom 19.0428 % missing values\n",
      "Car 19.6458 % missing values\n",
      "Landsize 26.0628 % missing values\n",
      "BuildingArea 57.4553 % missing values\n",
      "YearBuilt 50.9916 % missing values\n",
      "CouncilArea 33.5117 % missing values\n",
      "Lattitude 18.2783 % missing values\n",
      "Longtitude 18.2783 % missing values\n",
      "Regionname 0.0042 % missing values\n",
      "Propertycount 0.0042 % missing values\n"
     ]
    }
   ],
   "source": [
    "features_with_na=[features for features in df1.columns if df1[features].isnull().sum()>=1]\n",
    "\n",
    "#printing the feature name and percentage(mean) of missing values\n",
    "\n",
    "for i in features_with_na:\n",
    "    print(i ,  np.round(df1[i].isnull().mean()*100,4),'% missing values' )   "
   ]
  },
  {
   "cell_type": "markdown",
   "metadata": {},
   "source": [
    "# 7. Determine the row indexes having'any' missing values"
   ]
  },
  {
   "cell_type": "code",
   "execution_count": 20,
   "metadata": {},
   "outputs": [],
   "source": [
    "rows_with_any_nan = [index for index, row in df1.iterrows() if row.isnull().any()]"
   ]
  },
  {
   "cell_type": "code",
   "execution_count": 21,
   "metadata": {},
   "outputs": [
    {
     "data": {
      "text/plain": [
       "[0,\n",
       " 1,\n",
       " 3,\n",
       " 5,\n",
       " 7,\n",
       " 8,\n",
       " 9,\n",
       " 10,\n",
       " 12,\n",
       " 13,\n",
       " 15,\n",
       " 16,\n",
       " 17,\n",
       " 19,\n",
       " 20,\n",
       " 21,\n",
       " 22,\n",
       " 23,\n",
       " 26,\n",
       " 27,\n",
       " 28,\n",
       " 29,\n",
       " 32,\n",
       " 34,\n",
       " 35,\n",
       " 37,\n",
       " 40,\n",
       " 41,\n",
       " 42,\n",
       " 46,\n",
       " 47,\n",
       " 48,\n",
       " 49,\n",
       " 51,\n",
       " 53,\n",
       " 54,\n",
       " 55,\n",
       " 56,\n",
       " 61,\n",
       " 63,\n",
       " 65,\n",
       " 66,\n",
       " 70,\n",
       " 75,\n",
       " 76,\n",
       " 77,\n",
       " 78,\n",
       " 79,\n",
       " 80,\n",
       " 81,\n",
       " 85,\n",
       " 88,\n",
       " 90,\n",
       " 92,\n",
       " 93,\n",
       " 94,\n",
       " 95,\n",
       " 96,\n",
       " 97,\n",
       " 98,\n",
       " 100,\n",
       " 102,\n",
       " 103,\n",
       " 106,\n",
       " 108,\n",
       " 111,\n",
       " 112,\n",
       " 116,\n",
       " 117,\n",
       " 118,\n",
       " 119,\n",
       " 120,\n",
       " 121,\n",
       " 122,\n",
       " 123,\n",
       " 124,\n",
       " 125,\n",
       " 126,\n",
       " 127,\n",
       " 128,\n",
       " 129,\n",
       " 131,\n",
       " 132,\n",
       " 133,\n",
       " 135,\n",
       " 138,\n",
       " 140,\n",
       " 141,\n",
       " 142,\n",
       " 144,\n",
       " 145,\n",
       " 147,\n",
       " 149,\n",
       " 151,\n",
       " 152,\n",
       " 154,\n",
       " 155,\n",
       " 157,\n",
       " 158,\n",
       " 159,\n",
       " 161,\n",
       " 164,\n",
       " 165,\n",
       " 166,\n",
       " 168,\n",
       " 170,\n",
       " 171,\n",
       " 172,\n",
       " 174,\n",
       " 175,\n",
       " 176,\n",
       " 180,\n",
       " 181,\n",
       " 182,\n",
       " 183,\n",
       " 185,\n",
       " 186,\n",
       " 188,\n",
       " 189,\n",
       " 190,\n",
       " 191,\n",
       " 193,\n",
       " 195,\n",
       " 197,\n",
       " 198,\n",
       " 199,\n",
       " 200,\n",
       " 201,\n",
       " 204,\n",
       " 207,\n",
       " 208,\n",
       " 209,\n",
       " 210,\n",
       " 211,\n",
       " 212,\n",
       " 213,\n",
       " 214,\n",
       " 219,\n",
       " 221,\n",
       " 222,\n",
       " 223,\n",
       " 224,\n",
       " 225,\n",
       " 226,\n",
       " 228,\n",
       " 229,\n",
       " 235,\n",
       " 238,\n",
       " 240,\n",
       " 241,\n",
       " 244,\n",
       " 246,\n",
       " 248,\n",
       " 249,\n",
       " 251,\n",
       " 253,\n",
       " 254,\n",
       " 255,\n",
       " 257,\n",
       " 258,\n",
       " 259,\n",
       " 261,\n",
       " 264,\n",
       " 266,\n",
       " 267,\n",
       " 268,\n",
       " 269,\n",
       " 271,\n",
       " 272,\n",
       " 273,\n",
       " 274,\n",
       " 275,\n",
       " 276,\n",
       " 278,\n",
       " 280,\n",
       " 281,\n",
       " 282,\n",
       " 284,\n",
       " 287,\n",
       " 288,\n",
       " 289,\n",
       " 291,\n",
       " 292,\n",
       " 294,\n",
       " 295,\n",
       " 297,\n",
       " 298,\n",
       " 299,\n",
       " 301,\n",
       " 303,\n",
       " 304,\n",
       " 305,\n",
       " 306,\n",
       " 308,\n",
       " 309,\n",
       " 310,\n",
       " 311,\n",
       " 312,\n",
       " 313,\n",
       " 314,\n",
       " 315,\n",
       " 316,\n",
       " 317,\n",
       " 318,\n",
       " 319,\n",
       " 320,\n",
       " 321,\n",
       " 324,\n",
       " 325,\n",
       " 326,\n",
       " 327,\n",
       " 328,\n",
       " 329,\n",
       " 330,\n",
       " 331,\n",
       " 332,\n",
       " 333,\n",
       " 334,\n",
       " 335,\n",
       " 336,\n",
       " 337,\n",
       " 338,\n",
       " 339,\n",
       " 342,\n",
       " 345,\n",
       " 346,\n",
       " 347,\n",
       " 348,\n",
       " 349,\n",
       " 351,\n",
       " 352,\n",
       " 353,\n",
       " 354,\n",
       " 355,\n",
       " 356,\n",
       " 358,\n",
       " 359,\n",
       " 360,\n",
       " 361,\n",
       " 363,\n",
       " 364,\n",
       " 365,\n",
       " 367,\n",
       " 370,\n",
       " 371,\n",
       " 373,\n",
       " 374,\n",
       " 375,\n",
       " 377,\n",
       " 378,\n",
       " 379,\n",
       " 380,\n",
       " 382,\n",
       " 383,\n",
       " 385,\n",
       " 386,\n",
       " 387,\n",
       " 388,\n",
       " 389,\n",
       " 390,\n",
       " 391,\n",
       " 392,\n",
       " 394,\n",
       " 395,\n",
       " 396,\n",
       " 397,\n",
       " 398,\n",
       " 399,\n",
       " 400,\n",
       " 402,\n",
       " 404,\n",
       " 405,\n",
       " 406,\n",
       " 407,\n",
       " 409,\n",
       " 412,\n",
       " 413,\n",
       " 414,\n",
       " 415,\n",
       " 416,\n",
       " 418,\n",
       " 420,\n",
       " 421,\n",
       " 422,\n",
       " 423,\n",
       " 424,\n",
       " 425,\n",
       " 426,\n",
       " 428,\n",
       " 429,\n",
       " 430,\n",
       " 431,\n",
       " 432,\n",
       " 434,\n",
       " 435,\n",
       " 436,\n",
       " 437,\n",
       " 438,\n",
       " 440,\n",
       " 441,\n",
       " 443,\n",
       " 444,\n",
       " 447,\n",
       " 448,\n",
       " 449,\n",
       " 450,\n",
       " 451,\n",
       " 452,\n",
       " 453,\n",
       " 455,\n",
       " 457,\n",
       " 459,\n",
       " 460,\n",
       " 461,\n",
       " 463,\n",
       " 464,\n",
       " 465,\n",
       " 470,\n",
       " 471,\n",
       " 472,\n",
       " 473,\n",
       " 475,\n",
       " 476,\n",
       " 477,\n",
       " 478,\n",
       " 479,\n",
       " 480,\n",
       " 482,\n",
       " 483,\n",
       " 484,\n",
       " 485,\n",
       " 486,\n",
       " 489,\n",
       " 490,\n",
       " 494,\n",
       " 499,\n",
       " 503,\n",
       " 506,\n",
       " 508,\n",
       " 510,\n",
       " 511,\n",
       " 512,\n",
       " 514,\n",
       " 515,\n",
       " 517,\n",
       " 518,\n",
       " 519,\n",
       " 521,\n",
       " 522,\n",
       " 523,\n",
       " 524,\n",
       " 525,\n",
       " 530,\n",
       " 533,\n",
       " 535,\n",
       " 536,\n",
       " 543,\n",
       " 546,\n",
       " 547,\n",
       " 548,\n",
       " 550,\n",
       " 552,\n",
       " 555,\n",
       " 557,\n",
       " 559,\n",
       " 560,\n",
       " 561,\n",
       " 562,\n",
       " 563,\n",
       " 564,\n",
       " 568,\n",
       " 569,\n",
       " 572,\n",
       " 576,\n",
       " 579,\n",
       " 581,\n",
       " 582,\n",
       " 584,\n",
       " 585,\n",
       " 586,\n",
       " 587,\n",
       " 589,\n",
       " 590,\n",
       " 593,\n",
       " 594,\n",
       " 596,\n",
       " 597,\n",
       " 599,\n",
       " 601,\n",
       " 603,\n",
       " 604,\n",
       " 605,\n",
       " 606,\n",
       " 607,\n",
       " 609,\n",
       " 610,\n",
       " 611,\n",
       " 612,\n",
       " 613,\n",
       " 614,\n",
       " 618,\n",
       " 619,\n",
       " 622,\n",
       " 623,\n",
       " 625,\n",
       " 626,\n",
       " 627,\n",
       " 628,\n",
       " 630,\n",
       " 632,\n",
       " 634,\n",
       " 635,\n",
       " 636,\n",
       " 637,\n",
       " 638,\n",
       " 639,\n",
       " 640,\n",
       " 641,\n",
       " 642,\n",
       " 644,\n",
       " 645,\n",
       " 646,\n",
       " 648,\n",
       " 649,\n",
       " 650,\n",
       " 652,\n",
       " 653,\n",
       " 654,\n",
       " 656,\n",
       " 657,\n",
       " 658,\n",
       " 659,\n",
       " 661,\n",
       " 662,\n",
       " 663,\n",
       " 665,\n",
       " 669,\n",
       " 672,\n",
       " 673,\n",
       " 676,\n",
       " 677,\n",
       " 679,\n",
       " 680,\n",
       " 681,\n",
       " 682,\n",
       " 683,\n",
       " 684,\n",
       " 685,\n",
       " 688,\n",
       " 690,\n",
       " 693,\n",
       " 694,\n",
       " 697,\n",
       " 698,\n",
       " 699,\n",
       " 700,\n",
       " 701,\n",
       " 702,\n",
       " 705,\n",
       " 707,\n",
       " 708,\n",
       " 709,\n",
       " 710,\n",
       " 712,\n",
       " 713,\n",
       " 714,\n",
       " 716,\n",
       " 717,\n",
       " 718,\n",
       " 719,\n",
       " 720,\n",
       " 721,\n",
       " 722,\n",
       " 724,\n",
       " 726,\n",
       " 727,\n",
       " 728,\n",
       " 729,\n",
       " 730,\n",
       " 733,\n",
       " 735,\n",
       " 736,\n",
       " 737,\n",
       " 738,\n",
       " 739,\n",
       " 741,\n",
       " 742,\n",
       " 743,\n",
       " 745,\n",
       " 747,\n",
       " 748,\n",
       " 752,\n",
       " 753,\n",
       " 754,\n",
       " 756,\n",
       " 757,\n",
       " 758,\n",
       " 759,\n",
       " 760,\n",
       " 762,\n",
       " 763,\n",
       " 764,\n",
       " 765,\n",
       " 767,\n",
       " 768,\n",
       " 769,\n",
       " 771,\n",
       " 772,\n",
       " 773,\n",
       " 774,\n",
       " 775,\n",
       " 776,\n",
       " 777,\n",
       " 778,\n",
       " 779,\n",
       " 780,\n",
       " 781,\n",
       " 782,\n",
       " 783,\n",
       " 784,\n",
       " 785,\n",
       " 786,\n",
       " 787,\n",
       " 788,\n",
       " 789,\n",
       " 792,\n",
       " 794,\n",
       " 795,\n",
       " 796,\n",
       " 797,\n",
       " 799,\n",
       " 801,\n",
       " 802,\n",
       " 803,\n",
       " 805,\n",
       " 806,\n",
       " 807,\n",
       " 809,\n",
       " 810,\n",
       " 811,\n",
       " 812,\n",
       " 814,\n",
       " 815,\n",
       " 817,\n",
       " 818,\n",
       " 820,\n",
       " 821,\n",
       " 822,\n",
       " 823,\n",
       " 826,\n",
       " 827,\n",
       " 829,\n",
       " 830,\n",
       " 831,\n",
       " 835,\n",
       " 838,\n",
       " 842,\n",
       " 844,\n",
       " 845,\n",
       " 846,\n",
       " 847,\n",
       " 852,\n",
       " 853,\n",
       " 856,\n",
       " 857,\n",
       " 860,\n",
       " 862,\n",
       " 863,\n",
       " 864,\n",
       " 865,\n",
       " 866,\n",
       " 867,\n",
       " 868,\n",
       " 869,\n",
       " 871,\n",
       " 872,\n",
       " 873,\n",
       " 874,\n",
       " 876,\n",
       " 877,\n",
       " 878,\n",
       " 879,\n",
       " 880,\n",
       " 881,\n",
       " 883,\n",
       " 886,\n",
       " 887,\n",
       " 888,\n",
       " 890,\n",
       " 892,\n",
       " 893,\n",
       " 894,\n",
       " 895,\n",
       " 897,\n",
       " 898,\n",
       " 899,\n",
       " 903,\n",
       " 904,\n",
       " 906,\n",
       " 907,\n",
       " 908,\n",
       " 909,\n",
       " 910,\n",
       " 912,\n",
       " 913,\n",
       " 915,\n",
       " 916,\n",
       " 918,\n",
       " 919,\n",
       " 920,\n",
       " 921,\n",
       " 922,\n",
       " 923,\n",
       " 924,\n",
       " 926,\n",
       " 927,\n",
       " 928,\n",
       " 929,\n",
       " 930,\n",
       " 932,\n",
       " 934,\n",
       " 935,\n",
       " 937,\n",
       " 938,\n",
       " 939,\n",
       " 940,\n",
       " 942,\n",
       " 943,\n",
       " 944,\n",
       " 945,\n",
       " 946,\n",
       " 947,\n",
       " 948,\n",
       " 949,\n",
       " 950,\n",
       " 951,\n",
       " 952,\n",
       " 953,\n",
       " 954,\n",
       " 957,\n",
       " 958,\n",
       " 959,\n",
       " 960,\n",
       " 961,\n",
       " 963,\n",
       " 964,\n",
       " 965,\n",
       " 966,\n",
       " 967,\n",
       " 968,\n",
       " 971,\n",
       " 972,\n",
       " 973,\n",
       " 974,\n",
       " 975,\n",
       " 976,\n",
       " 977,\n",
       " 978,\n",
       " 979,\n",
       " 980,\n",
       " 981,\n",
       " 984,\n",
       " 985,\n",
       " 987,\n",
       " 989,\n",
       " 990,\n",
       " 991,\n",
       " 992,\n",
       " 993,\n",
       " 994,\n",
       " 995,\n",
       " 997,\n",
       " 998,\n",
       " 1000,\n",
       " 1001,\n",
       " 1003,\n",
       " 1004,\n",
       " 1005,\n",
       " 1007,\n",
       " 1008,\n",
       " 1010,\n",
       " 1014,\n",
       " 1015,\n",
       " 1016,\n",
       " 1017,\n",
       " 1022,\n",
       " 1023,\n",
       " 1024,\n",
       " 1027,\n",
       " 1028,\n",
       " 1029,\n",
       " 1034,\n",
       " 1035,\n",
       " 1036,\n",
       " 1037,\n",
       " 1038,\n",
       " 1040,\n",
       " 1041,\n",
       " 1043,\n",
       " 1044,\n",
       " 1045,\n",
       " 1046,\n",
       " 1047,\n",
       " 1048,\n",
       " 1050,\n",
       " 1051,\n",
       " 1052,\n",
       " 1053,\n",
       " 1054,\n",
       " 1057,\n",
       " 1058,\n",
       " 1059,\n",
       " 1061,\n",
       " 1063,\n",
       " 1064,\n",
       " 1065,\n",
       " 1067,\n",
       " 1070,\n",
       " 1072,\n",
       " 1074,\n",
       " 1075,\n",
       " 1076,\n",
       " 1077,\n",
       " 1078,\n",
       " 1080,\n",
       " 1081,\n",
       " 1082,\n",
       " 1083,\n",
       " 1084,\n",
       " 1085,\n",
       " 1087,\n",
       " 1088,\n",
       " 1090,\n",
       " 1093,\n",
       " 1095,\n",
       " 1098,\n",
       " 1099,\n",
       " 1101,\n",
       " 1102,\n",
       " 1103,\n",
       " 1104,\n",
       " 1106,\n",
       " 1108,\n",
       " 1109,\n",
       " 1110,\n",
       " 1112,\n",
       " 1113,\n",
       " 1114,\n",
       " 1116,\n",
       " 1117,\n",
       " 1118,\n",
       " 1119,\n",
       " 1120,\n",
       " 1123,\n",
       " 1124,\n",
       " 1125,\n",
       " 1126,\n",
       " 1127,\n",
       " 1129,\n",
       " 1130,\n",
       " 1131,\n",
       " 1133,\n",
       " 1134,\n",
       " 1135,\n",
       " 1137,\n",
       " 1139,\n",
       " 1140,\n",
       " 1141,\n",
       " 1143,\n",
       " 1144,\n",
       " 1146,\n",
       " 1147,\n",
       " 1149,\n",
       " 1150,\n",
       " 1151,\n",
       " 1152,\n",
       " 1153,\n",
       " 1154,\n",
       " 1155,\n",
       " 1156,\n",
       " 1157,\n",
       " 1159,\n",
       " 1160,\n",
       " 1161,\n",
       " 1162,\n",
       " 1164,\n",
       " 1165,\n",
       " 1166,\n",
       " 1168,\n",
       " 1170,\n",
       " 1171,\n",
       " 1172,\n",
       " 1174,\n",
       " 1175,\n",
       " 1176,\n",
       " 1177,\n",
       " 1178,\n",
       " 1179,\n",
       " 1180,\n",
       " 1181,\n",
       " 1182,\n",
       " 1183,\n",
       " 1184,\n",
       " 1185,\n",
       " 1189,\n",
       " 1190,\n",
       " 1191,\n",
       " 1193,\n",
       " 1194,\n",
       " 1195,\n",
       " 1197,\n",
       " 1198,\n",
       " 1199,\n",
       " 1200,\n",
       " 1201,\n",
       " 1202,\n",
       " 1203,\n",
       " 1205,\n",
       " 1207,\n",
       " 1208,\n",
       " 1209,\n",
       " 1210,\n",
       " 1211,\n",
       " 1212,\n",
       " 1214,\n",
       " 1215,\n",
       " 1216,\n",
       " 1217,\n",
       " 1218,\n",
       " 1222,\n",
       " 1223,\n",
       " 1224,\n",
       " 1225,\n",
       " 1226,\n",
       " 1227,\n",
       " 1228,\n",
       " 1229,\n",
       " 1230,\n",
       " 1231,\n",
       " 1235,\n",
       " 1238,\n",
       " 1239,\n",
       " 1242,\n",
       " 1243,\n",
       " 1245,\n",
       " 1246,\n",
       " 1247,\n",
       " 1248,\n",
       " 1252,\n",
       " 1254,\n",
       " 1255,\n",
       " 1256,\n",
       " 1258,\n",
       " 1259,\n",
       " 1263,\n",
       " 1264,\n",
       " 1265,\n",
       " 1266,\n",
       " 1268,\n",
       " 1269,\n",
       " 1270,\n",
       " 1271,\n",
       " 1274,\n",
       " 1276,\n",
       " 1277,\n",
       " 1278,\n",
       " 1281,\n",
       " 1282,\n",
       " 1283,\n",
       " 1284,\n",
       " 1285,\n",
       " 1286,\n",
       " 1287,\n",
       " 1288,\n",
       " 1290,\n",
       " 1291,\n",
       " 1292,\n",
       " 1293,\n",
       " 1295,\n",
       " 1297,\n",
       " 1299,\n",
       " 1301,\n",
       " 1302,\n",
       " 1304,\n",
       " 1305,\n",
       " 1307,\n",
       " 1308,\n",
       " 1309,\n",
       " 1310,\n",
       " 1312,\n",
       " 1313,\n",
       " 1314,\n",
       " 1315,\n",
       " 1319,\n",
       " 1320,\n",
       " 1321,\n",
       " 1322,\n",
       " 1324,\n",
       " 1325,\n",
       " 1326,\n",
       " 1327,\n",
       " 1328,\n",
       " 1329,\n",
       " 1330,\n",
       " 1332,\n",
       " 1333,\n",
       " 1334,\n",
       " 1336,\n",
       " 1337,\n",
       " 1338,\n",
       " 1340,\n",
       " 1341,\n",
       " 1343,\n",
       " 1345,\n",
       " 1346,\n",
       " 1349,\n",
       " 1351,\n",
       " 1352,\n",
       " 1353,\n",
       " 1354,\n",
       " 1356,\n",
       " 1357,\n",
       " 1358,\n",
       " 1359,\n",
       " 1360,\n",
       " 1361,\n",
       " 1362,\n",
       " 1363,\n",
       " 1366,\n",
       " 1367,\n",
       " 1368,\n",
       " 1370,\n",
       " 1371,\n",
       " 1372,\n",
       " 1373,\n",
       " 1374,\n",
       " 1375,\n",
       " 1376,\n",
       " 1377,\n",
       " 1378,\n",
       " 1379,\n",
       " 1380,\n",
       " 1382,\n",
       " 1383,\n",
       " 1384,\n",
       " 1385,\n",
       " 1386,\n",
       " 1387,\n",
       " 1389,\n",
       " 1391,\n",
       " 1394,\n",
       " 1395,\n",
       " 1396,\n",
       " 1397,\n",
       " 1399,\n",
       " 1406,\n",
       " 1407,\n",
       " 1408,\n",
       " 1410,\n",
       " 1411,\n",
       " 1412,\n",
       " 1414,\n",
       " 1416,\n",
       " 1417,\n",
       " 1418,\n",
       " 1419,\n",
       " 1420,\n",
       " 1421,\n",
       " 1422,\n",
       " 1423,\n",
       " 1425,\n",
       " 1426,\n",
       " 1427,\n",
       " 1430,\n",
       " 1431,\n",
       " 1432,\n",
       " 1433,\n",
       " 1434,\n",
       " 1435,\n",
       " 1439,\n",
       " 1440,\n",
       " 1441,\n",
       " 1442,\n",
       " 1443,\n",
       " 1444,\n",
       " 1445,\n",
       " 1446,\n",
       " 1447,\n",
       " 1448,\n",
       " 1449,\n",
       " 1450,\n",
       " 1451,\n",
       " 1453,\n",
       " 1454,\n",
       " 1456,\n",
       " 1457,\n",
       " 1459,\n",
       " 1460,\n",
       " 1461,\n",
       " 1462,\n",
       " ...]"
      ]
     },
     "execution_count": 21,
     "metadata": {},
     "output_type": "execute_result"
    }
   ],
   "source": [
    "rows_with_any_nan"
   ]
  },
  {
   "cell_type": "code",
   "execution_count": 22,
   "metadata": {},
   "outputs": [
    {
     "data": {
      "text/plain": [
       "17351"
      ]
     },
     "execution_count": 22,
     "metadata": {},
     "output_type": "execute_result"
    }
   ],
   "source": [
    "len(rows_with_any_nan)"
   ]
  },
  {
   "cell_type": "markdown",
   "metadata": {},
   "source": [
    "# 8. Determine the missing values and their percentage in each row"
   ]
  },
  {
   "cell_type": "markdown",
   "metadata": {},
   "source": [
    "# number of values missing in each row"
   ]
  },
  {
   "cell_type": "code",
   "execution_count": 23,
   "metadata": {},
   "outputs": [
    {
     "data": {
      "text/plain": [
       "0        3\n",
       "1        2\n",
       "2        0\n",
       "3        3\n",
       "4        0\n",
       "        ..\n",
       "23673    2\n",
       "23674    8\n",
       "23675    4\n",
       "23676    1\n",
       "23677    2\n",
       "Length: 23547, dtype: int64"
      ]
     },
     "execution_count": 23,
     "metadata": {},
     "output_type": "execute_result"
    }
   ],
   "source": [
    "df1.apply(lambda x: df1.shape[1]-x.count(), axis=1)"
   ]
  },
  {
   "cell_type": "markdown",
   "metadata": {},
   "source": [
    "# Percentage of missing values in each row"
   ]
  },
  {
   "cell_type": "code",
   "execution_count": 24,
   "metadata": {},
   "outputs": [
    {
     "data": {
      "text/plain": [
       "0        14.285714\n",
       "1         9.523810\n",
       "2         0.000000\n",
       "3        14.285714\n",
       "4         0.000000\n",
       "           ...    \n",
       "23673     9.523810\n",
       "23674    38.095238\n",
       "23675    19.047619\n",
       "23676     4.761905\n",
       "23677     9.523810\n",
       "Length: 23547, dtype: float64"
      ]
     },
     "execution_count": 24,
     "metadata": {},
     "output_type": "execute_result"
    }
   ],
   "source": [
    "df1.apply(lambda x: ((df1.shape[1]-x.count())/21)*100, axis=1)"
   ]
  },
  {
   "cell_type": "markdown",
   "metadata": {},
   "source": [
    "# 9. Determine the column names having more than 30% missing values and remove them from the dataset"
   ]
  },
  {
   "cell_type": "raw",
   "metadata": {},
   "source": [
    "#From 6. Determine the missing values and their percentage in each column\n",
    "\n",
    "BuildingArea 0.5746 % missing values\n",
    "YearBuilt 0.5099 % missing values\n",
    "CouncilArea 0.3351 % missing values"
   ]
  },
  {
   "cell_type": "code",
   "execution_count": 25,
   "metadata": {},
   "outputs": [],
   "source": [
    "df_30centabvnan_colremoved=df1.drop(['BuildingArea','YearBuilt','CouncilArea'],axis=1)"
   ]
  },
  {
   "cell_type": "code",
   "execution_count": 26,
   "metadata": {},
   "outputs": [
    {
     "data": {
      "text/plain": [
       "(23547, 18)"
      ]
     },
     "execution_count": 26,
     "metadata": {},
     "output_type": "execute_result"
    }
   ],
   "source": [
    "df_30centabvnan_colremoved.shape"
   ]
  },
  {
   "cell_type": "code",
   "execution_count": 27,
   "metadata": {},
   "outputs": [
    {
     "data": {
      "text/plain": [
       "(23547, 21)"
      ]
     },
     "execution_count": 27,
     "metadata": {},
     "output_type": "execute_result"
    }
   ],
   "source": [
    "df1.shape"
   ]
  },
  {
   "cell_type": "markdown",
   "metadata": {},
   "source": [
    "# 10. Determine the number and percentage of rows having more than 5 missing values. If the percentage of such rows is less than 20% then remove all these rows"
   ]
  },
  {
   "cell_type": "code",
   "execution_count": 28,
   "metadata": {},
   "outputs": [
    {
     "name": "stdout",
     "output_type": "stream",
     "text": [
      "Price\n",
      "Bedroom2\n",
      "Bathroom\n",
      "Car\n",
      "Landsize\n",
      "Lattitude\n",
      "Longtitude\n"
     ]
    }
   ],
   "source": [
    "rows_with_na_30=[features for features in df_30centabvnan_colremoved.columns if df_30centabvnan_colremoved[features].isnull().sum()>5]\n",
    "\n",
    "for i in rows_with_na_30:\n",
    "    print(i  )  "
   ]
  },
  {
   "cell_type": "code",
   "execution_count": 29,
   "metadata": {},
   "outputs": [
    {
     "data": {
      "text/plain": [
       "38.88888888888889"
      ]
     },
     "execution_count": 29,
     "metadata": {},
     "output_type": "execute_result"
    }
   ],
   "source": [
    "#percentage of rows having more than 5 missing values=38.88% > 20%,\n",
    "#so we will not delete the features.\n",
    "\n",
    "(len(rows_with_na_30)/df_30centabvnan_colremoved.shape[1])*100"
   ]
  },
  {
   "cell_type": "code",
   "execution_count": 30,
   "metadata": {},
   "outputs": [
    {
     "data": {
      "text/plain": [
       "(23547, 18)"
      ]
     },
     "execution_count": 30,
     "metadata": {},
     "output_type": "execute_result"
    }
   ],
   "source": [
    "df_30centabvnan_colremoved.shape"
   ]
  },
  {
   "cell_type": "markdown",
   "metadata": {},
   "source": [
    "# 11. Display the description of data and percentage of missing values still left column wise"
   ]
  },
  {
   "cell_type": "code",
   "execution_count": 31,
   "metadata": {},
   "outputs": [
    {
     "data": {
      "text/html": [
       "<div>\n",
       "<style scoped>\n",
       "    .dataframe tbody tr th:only-of-type {\n",
       "        vertical-align: middle;\n",
       "    }\n",
       "\n",
       "    .dataframe tbody tr th {\n",
       "        vertical-align: top;\n",
       "    }\n",
       "\n",
       "    .dataframe thead th {\n",
       "        text-align: right;\n",
       "    }\n",
       "</style>\n",
       "<table border=\"1\" class=\"dataframe\">\n",
       "  <thead>\n",
       "    <tr style=\"text-align: right;\">\n",
       "      <th></th>\n",
       "      <th>Rooms</th>\n",
       "      <th>Price</th>\n",
       "      <th>Distance</th>\n",
       "      <th>Postcode</th>\n",
       "      <th>Bedroom2</th>\n",
       "      <th>Bathroom</th>\n",
       "      <th>Car</th>\n",
       "      <th>Landsize</th>\n",
       "      <th>Lattitude</th>\n",
       "      <th>Longtitude</th>\n",
       "      <th>Propertycount</th>\n",
       "    </tr>\n",
       "  </thead>\n",
       "  <tbody>\n",
       "    <tr>\n",
       "      <th>count</th>\n",
       "      <td>23547.000000</td>\n",
       "      <td>1.839600e+04</td>\n",
       "      <td>23546.000000</td>\n",
       "      <td>23546.000000</td>\n",
       "      <td>19066.000000</td>\n",
       "      <td>19063.000000</td>\n",
       "      <td>18921.000000</td>\n",
       "      <td>17410.000000</td>\n",
       "      <td>19243.000000</td>\n",
       "      <td>19243.000000</td>\n",
       "      <td>23546.000000</td>\n",
       "    </tr>\n",
       "    <tr>\n",
       "      <th>mean</th>\n",
       "      <td>2.976048</td>\n",
       "      <td>1.056697e+06</td>\n",
       "      <td>10.306515</td>\n",
       "      <td>3109.782893</td>\n",
       "      <td>2.951956</td>\n",
       "      <td>1.570897</td>\n",
       "      <td>1.626235</td>\n",
       "      <td>551.783458</td>\n",
       "      <td>-37.812434</td>\n",
       "      <td>145.000287</td>\n",
       "      <td>7517.480591</td>\n",
       "    </tr>\n",
       "    <tr>\n",
       "      <th>std</th>\n",
       "      <td>0.974501</td>\n",
       "      <td>6.419217e+05</td>\n",
       "      <td>6.016318</td>\n",
       "      <td>94.522190</td>\n",
       "      <td>0.996032</td>\n",
       "      <td>0.712684</td>\n",
       "      <td>0.974048</td>\n",
       "      <td>3544.288014</td>\n",
       "      <td>0.079926</td>\n",
       "      <td>0.106071</td>\n",
       "      <td>4414.995634</td>\n",
       "    </tr>\n",
       "    <tr>\n",
       "      <th>min</th>\n",
       "      <td>1.000000</td>\n",
       "      <td>8.500000e+04</td>\n",
       "      <td>0.000000</td>\n",
       "      <td>3000.000000</td>\n",
       "      <td>0.000000</td>\n",
       "      <td>0.000000</td>\n",
       "      <td>0.000000</td>\n",
       "      <td>0.000000</td>\n",
       "      <td>-38.184180</td>\n",
       "      <td>144.431620</td>\n",
       "      <td>129.000000</td>\n",
       "    </tr>\n",
       "    <tr>\n",
       "      <th>25%</th>\n",
       "      <td>2.000000</td>\n",
       "      <td>6.330000e+05</td>\n",
       "      <td>6.200000</td>\n",
       "      <td>3047.000000</td>\n",
       "      <td>2.000000</td>\n",
       "      <td>1.000000</td>\n",
       "      <td>1.000000</td>\n",
       "      <td>181.000000</td>\n",
       "      <td>-37.859300</td>\n",
       "      <td>144.939300</td>\n",
       "      <td>4385.000000</td>\n",
       "    </tr>\n",
       "    <tr>\n",
       "      <th>50%</th>\n",
       "      <td>3.000000</td>\n",
       "      <td>8.800000e+05</td>\n",
       "      <td>9.500000</td>\n",
       "      <td>3101.000000</td>\n",
       "      <td>3.000000</td>\n",
       "      <td>1.000000</td>\n",
       "      <td>2.000000</td>\n",
       "      <td>448.000000</td>\n",
       "      <td>-37.809700</td>\n",
       "      <td>145.004300</td>\n",
       "      <td>6567.000000</td>\n",
       "    </tr>\n",
       "    <tr>\n",
       "      <th>75%</th>\n",
       "      <td>4.000000</td>\n",
       "      <td>1.302000e+06</td>\n",
       "      <td>13.000000</td>\n",
       "      <td>3150.000000</td>\n",
       "      <td>4.000000</td>\n",
       "      <td>2.000000</td>\n",
       "      <td>2.000000</td>\n",
       "      <td>656.000000</td>\n",
       "      <td>-37.759800</td>\n",
       "      <td>145.063100</td>\n",
       "      <td>10331.000000</td>\n",
       "    </tr>\n",
       "    <tr>\n",
       "      <th>max</th>\n",
       "      <td>12.000000</td>\n",
       "      <td>9.000000e+06</td>\n",
       "      <td>48.100000</td>\n",
       "      <td>3978.000000</td>\n",
       "      <td>30.000000</td>\n",
       "      <td>12.000000</td>\n",
       "      <td>26.000000</td>\n",
       "      <td>433014.000000</td>\n",
       "      <td>-37.407580</td>\n",
       "      <td>145.526350</td>\n",
       "      <td>21650.000000</td>\n",
       "    </tr>\n",
       "  </tbody>\n",
       "</table>\n",
       "</div>"
      ],
      "text/plain": [
       "              Rooms         Price      Distance      Postcode      Bedroom2  \\\n",
       "count  23547.000000  1.839600e+04  23546.000000  23546.000000  19066.000000   \n",
       "mean       2.976048  1.056697e+06     10.306515   3109.782893      2.951956   \n",
       "std        0.974501  6.419217e+05      6.016318     94.522190      0.996032   \n",
       "min        1.000000  8.500000e+04      0.000000   3000.000000      0.000000   \n",
       "25%        2.000000  6.330000e+05      6.200000   3047.000000      2.000000   \n",
       "50%        3.000000  8.800000e+05      9.500000   3101.000000      3.000000   \n",
       "75%        4.000000  1.302000e+06     13.000000   3150.000000      4.000000   \n",
       "max       12.000000  9.000000e+06     48.100000   3978.000000     30.000000   \n",
       "\n",
       "           Bathroom           Car       Landsize     Lattitude    Longtitude  \\\n",
       "count  19063.000000  18921.000000   17410.000000  19243.000000  19243.000000   \n",
       "mean       1.570897      1.626235     551.783458    -37.812434    145.000287   \n",
       "std        0.712684      0.974048    3544.288014      0.079926      0.106071   \n",
       "min        0.000000      0.000000       0.000000    -38.184180    144.431620   \n",
       "25%        1.000000      1.000000     181.000000    -37.859300    144.939300   \n",
       "50%        1.000000      2.000000     448.000000    -37.809700    145.004300   \n",
       "75%        2.000000      2.000000     656.000000    -37.759800    145.063100   \n",
       "max       12.000000     26.000000  433014.000000    -37.407580    145.526350   \n",
       "\n",
       "       Propertycount  \n",
       "count   23546.000000  \n",
       "mean     7517.480591  \n",
       "std      4414.995634  \n",
       "min       129.000000  \n",
       "25%      4385.000000  \n",
       "50%      6567.000000  \n",
       "75%     10331.000000  \n",
       "max     21650.000000  "
      ]
     },
     "execution_count": 31,
     "metadata": {},
     "output_type": "execute_result"
    }
   ],
   "source": [
    "df_30centabvnan_colremoved.describe()"
   ]
  },
  {
   "cell_type": "code",
   "execution_count": 32,
   "metadata": {},
   "outputs": [
    {
     "name": "stdout",
     "output_type": "stream",
     "text": [
      "Price 21.8754 % missing values\n",
      "Distance 0.0042 % missing values\n",
      "Postcode 0.0042 % missing values\n",
      "Bedroom2 19.03 % missing values\n",
      "Bathroom 19.0428 % missing values\n",
      "Car 19.6458 % missing values\n",
      "Landsize 26.0628 % missing values\n",
      "Lattitude 18.2783 % missing values\n",
      "Longtitude 18.2783 % missing values\n",
      "Regionname 0.0042 % missing values\n",
      "Propertycount 0.0042 % missing values\n"
     ]
    }
   ],
   "source": [
    "features_with_na_30=[features for features in df_30centabvnan_colremoved.columns if df_30centabvnan_colremoved[features].isnull().sum()>=1]\n",
    "\n",
    "#printing the feature name and percentage(mean) of missing values\n",
    "\n",
    "for i in features_with_na_30:\n",
    "    print(i ,  np.round(df1[i].isnull().mean()*100,4),'% missing values' )   "
   ]
  },
  {
   "cell_type": "markdown",
   "metadata": {},
   "source": [
    "# 12. Considering the 'Price' column as target variable which is to be predicted, how will you treat the missing values? Give a brief explanation and treat the missing values in 'Price' column"
   ]
  },
  {
   "cell_type": "code",
   "execution_count": 33,
   "metadata": {},
   "outputs": [],
   "source": [
    "import matplotlib.pyplot as plt\n",
    "%matplotlib inline\n",
    "import seaborn as sns"
   ]
  },
  {
   "cell_type": "code",
   "execution_count": 34,
   "metadata": {},
   "outputs": [
    {
     "data": {
      "text/plain": [
       "<matplotlib.axes._subplots.AxesSubplot at 0x271615431f0>"
      ]
     },
     "execution_count": 34,
     "metadata": {},
     "output_type": "execute_result"
    },
    {
     "data": {
      "image/png": "[encoded data removed]",
      "text/plain": [
       "<Figure size 432x288 with 1 Axes>"
      ]
     },
     "metadata": {
      "needs_background": "light"
     },
     "output_type": "display_data"
    }
   ],
   "source": [
    "df_30centabvnan_colremoved.boxplot(column=['Price'])"
   ]
  },
  {
   "cell_type": "code",
   "execution_count": 35,
   "metadata": {},
   "outputs": [
    {
     "data": {
      "text/plain": [
       "dtype('float64')"
      ]
     },
     "execution_count": 35,
     "metadata": {},
     "output_type": "execute_result"
    }
   ],
   "source": [
    "df_30centabvnan_colremoved['Price'].dtypes"
   ]
  },
  {
   "cell_type": "code",
   "execution_count": 36,
   "metadata": {},
   "outputs": [
    {
     "data": {
      "text/html": [
       "<div>\n",
       "<style scoped>\n",
       "    .dataframe tbody tr th:only-of-type {\n",
       "        vertical-align: middle;\n",
       "    }\n",
       "\n",
       "    .dataframe tbody tr th {\n",
       "        vertical-align: top;\n",
       "    }\n",
       "\n",
       "    .dataframe thead th {\n",
       "        text-align: right;\n",
       "    }\n",
       "</style>\n",
       "<table border=\"1\" class=\"dataframe\">\n",
       "  <thead>\n",
       "    <tr style=\"text-align: right;\">\n",
       "      <th></th>\n",
       "      <th>Suburb</th>\n",
       "      <th>Address</th>\n",
       "      <th>Rooms</th>\n",
       "      <th>Type</th>\n",
       "      <th>Price</th>\n",
       "      <th>Method</th>\n",
       "      <th>SellerG</th>\n",
       "      <th>Date</th>\n",
       "      <th>Distance</th>\n",
       "      <th>Postcode</th>\n",
       "      <th>Bedroom2</th>\n",
       "      <th>Bathroom</th>\n",
       "      <th>Car</th>\n",
       "      <th>Landsize</th>\n",
       "      <th>Lattitude</th>\n",
       "      <th>Longtitude</th>\n",
       "      <th>Regionname</th>\n",
       "      <th>Propertycount</th>\n",
       "    </tr>\n",
       "  </thead>\n",
       "  <tbody>\n",
       "    <tr>\n",
       "      <th>0</th>\n",
       "      <td>Abbotsford</td>\n",
       "      <td>68 Studley St</td>\n",
       "      <td>2.0</td>\n",
       "      <td>h</td>\n",
       "      <td>NaN</td>\n",
       "      <td>SS</td>\n",
       "      <td>Jellis</td>\n",
       "      <td>03-09-2016</td>\n",
       "      <td>2.5</td>\n",
       "      <td>3067.0</td>\n",
       "      <td>2.0</td>\n",
       "      <td>1.0</td>\n",
       "      <td>1.0</td>\n",
       "      <td>126.0</td>\n",
       "      <td>-37.8014</td>\n",
       "      <td>144.9958</td>\n",
       "      <td>Northern Metropolitan</td>\n",
       "      <td>4019.0</td>\n",
       "    </tr>\n",
       "    <tr>\n",
       "      <th>1</th>\n",
       "      <td>Abbotsford</td>\n",
       "      <td>85 Turner St</td>\n",
       "      <td>2.0</td>\n",
       "      <td>h</td>\n",
       "      <td>1480000.0</td>\n",
       "      <td>S</td>\n",
       "      <td>Biggin</td>\n",
       "      <td>03-12-2016</td>\n",
       "      <td>2.5</td>\n",
       "      <td>3067.0</td>\n",
       "      <td>2.0</td>\n",
       "      <td>1.0</td>\n",
       "      <td>1.0</td>\n",
       "      <td>202.0</td>\n",
       "      <td>-37.7996</td>\n",
       "      <td>144.9984</td>\n",
       "      <td>Northern Metropolitan</td>\n",
       "      <td>4019.0</td>\n",
       "    </tr>\n",
       "    <tr>\n",
       "      <th>2</th>\n",
       "      <td>Abbotsford</td>\n",
       "      <td>25 Bloomburg St</td>\n",
       "      <td>2.0</td>\n",
       "      <td>h</td>\n",
       "      <td>1035000.0</td>\n",
       "      <td>S</td>\n",
       "      <td>Biggin</td>\n",
       "      <td>04-02-2016</td>\n",
       "      <td>2.5</td>\n",
       "      <td>3067.0</td>\n",
       "      <td>2.0</td>\n",
       "      <td>1.0</td>\n",
       "      <td>0.0</td>\n",
       "      <td>156.0</td>\n",
       "      <td>-37.8079</td>\n",
       "      <td>144.9934</td>\n",
       "      <td>Northern Metropolitan</td>\n",
       "      <td>4019.0</td>\n",
       "    </tr>\n",
       "    <tr>\n",
       "      <th>3</th>\n",
       "      <td>Abbotsford</td>\n",
       "      <td>18/659 Victoria St</td>\n",
       "      <td>3.0</td>\n",
       "      <td>u</td>\n",
       "      <td>NaN</td>\n",
       "      <td>VB</td>\n",
       "      <td>Rounds</td>\n",
       "      <td>04-02-2016</td>\n",
       "      <td>2.5</td>\n",
       "      <td>3067.0</td>\n",
       "      <td>3.0</td>\n",
       "      <td>2.0</td>\n",
       "      <td>1.0</td>\n",
       "      <td>0.0</td>\n",
       "      <td>-37.8114</td>\n",
       "      <td>145.0116</td>\n",
       "      <td>Northern Metropolitan</td>\n",
       "      <td>4019.0</td>\n",
       "    </tr>\n",
       "    <tr>\n",
       "      <th>4</th>\n",
       "      <td>Abbotsford</td>\n",
       "      <td>5 Charles St</td>\n",
       "      <td>3.0</td>\n",
       "      <td>h</td>\n",
       "      <td>1465000.0</td>\n",
       "      <td>SP</td>\n",
       "      <td>Biggin</td>\n",
       "      <td>04-03-2017</td>\n",
       "      <td>2.5</td>\n",
       "      <td>3067.0</td>\n",
       "      <td>3.0</td>\n",
       "      <td>2.0</td>\n",
       "      <td>0.0</td>\n",
       "      <td>134.0</td>\n",
       "      <td>-37.8093</td>\n",
       "      <td>144.9944</td>\n",
       "      <td>Northern Metropolitan</td>\n",
       "      <td>4019.0</td>\n",
       "    </tr>\n",
       "  </tbody>\n",
       "</table>\n",
       "</div>"
      ],
      "text/plain": [
       "       Suburb             Address  Rooms Type      Price Method SellerG  \\\n",
       "0  Abbotsford       68 Studley St    2.0    h        NaN     SS  Jellis   \n",
       "1  Abbotsford        85 Turner St    2.0    h  1480000.0      S  Biggin   \n",
       "2  Abbotsford     25 Bloomburg St    2.0    h  1035000.0      S  Biggin   \n",
       "3  Abbotsford  18/659 Victoria St    3.0    u        NaN     VB  Rounds   \n",
       "4  Abbotsford        5 Charles St    3.0    h  1465000.0     SP  Biggin   \n",
       "\n",
       "         Date  Distance  Postcode  Bedroom2  Bathroom  Car  Landsize  \\\n",
       "0  03-09-2016       2.5    3067.0       2.0       1.0  1.0     126.0   \n",
       "1  03-12-2016       2.5    3067.0       2.0       1.0  1.0     202.0   \n",
       "2  04-02-2016       2.5    3067.0       2.0       1.0  0.0     156.0   \n",
       "3  04-02-2016       2.5    3067.0       3.0       2.0  1.0       0.0   \n",
       "4  04-03-2017       2.5    3067.0       3.0       2.0  0.0     134.0   \n",
       "\n",
       "   Lattitude  Longtitude             Regionname  Propertycount  \n",
       "0   -37.8014    144.9958  Northern Metropolitan         4019.0  \n",
       "1   -37.7996    144.9984  Northern Metropolitan         4019.0  \n",
       "2   -37.8079    144.9934  Northern Metropolitan         4019.0  \n",
       "3   -37.8114    145.0116  Northern Metropolitan         4019.0  \n",
       "4   -37.8093    144.9944  Northern Metropolitan         4019.0  "
      ]
     },
     "execution_count": 36,
     "metadata": {},
     "output_type": "execute_result"
    }
   ],
   "source": [
    "df_30centabvnan_colremoved.head()"
   ]
  },
  {
   "cell_type": "raw",
   "metadata": {},
   "source": [
    "#We can see there are huge outliers in the price feature,hence we will replace by median instead of mean.\n",
    "--When there are outliers in 'continuous features' use median/mode of the same feature to fill the NaN values.meadian preffered.\n",
    "\n",
    "--When their are no outliers in 'continuous features' use mean of the same feature to fill the NaN values.\n",
    "\n"
   ]
  },
  {
   "cell_type": "code",
   "execution_count": 37,
   "metadata": {},
   "outputs": [],
   "source": [
    "df_30centabvnan_colremoved['Price']=df_30centabvnan_colremoved.fillna(df_30centabvnan_colremoved['Price'].median())"
   ]
  },
  {
   "cell_type": "markdown",
   "metadata": {},
   "source": [
    "# 13. Now check the percentage of missing values in each column again, if missing values exist, treat it with the most suitable method"
   ]
  },
  {
   "cell_type": "code",
   "execution_count": 38,
   "metadata": {},
   "outputs": [
    {
     "name": "stdout",
     "output_type": "stream",
     "text": [
      "Distance 0.0042 % missing values\n",
      "Postcode 0.0042 % missing values\n",
      "Bedroom2 19.03 % missing values\n",
      "Bathroom 19.0428 % missing values\n",
      "Car 19.6458 % missing values\n",
      "Landsize 26.0628 % missing values\n",
      "Lattitude 18.2783 % missing values\n",
      "Longtitude 18.2783 % missing values\n",
      "Regionname 0.0042 % missing values\n",
      "Propertycount 0.0042 % missing values\n"
     ]
    }
   ],
   "source": [
    "features_with_na_30=[features for features in df_30centabvnan_colremoved.columns if df_30centabvnan_colremoved[features].isnull().sum()>=1]\n",
    "\n",
    "#printing the feature name and percentage(mean) of missing values\n",
    "\n",
    "for i in features_with_na_30:\n",
    "    print(i ,  np.round(df1[i].isnull().mean()*100,4),'% missing values' )   "
   ]
  },
  {
   "cell_type": "code",
   "execution_count": 39,
   "metadata": {},
   "outputs": [
    {
     "data": {
      "text/plain": [
       "Suburb              0\n",
       "Address             0\n",
       "Rooms               0\n",
       "Type                0\n",
       "Price               0\n",
       "Method              0\n",
       "SellerG             0\n",
       "Date                0\n",
       "Distance            1\n",
       "Postcode            1\n",
       "Bedroom2         4481\n",
       "Bathroom         4484\n",
       "Car              4626\n",
       "Landsize         6137\n",
       "Lattitude        4304\n",
       "Longtitude       4304\n",
       "Regionname          1\n",
       "Propertycount       1\n",
       "dtype: int64"
      ]
     },
     "execution_count": 39,
     "metadata": {},
     "output_type": "execute_result"
    }
   ],
   "source": [
    "df_30centabvnan_colremoved.isnull().sum()"
   ]
  },
  {
   "cell_type": "code",
   "execution_count": 40,
   "metadata": {},
   "outputs": [
    {
     "data": {
      "text/plain": [
       "Suburb            object\n",
       "Address           object\n",
       "Rooms            float64\n",
       "Type              object\n",
       "Price             object\n",
       "Method            object\n",
       "SellerG           object\n",
       "Date              object\n",
       "Distance         float64\n",
       "Postcode         float64\n",
       "Bedroom2         float64\n",
       "Bathroom         float64\n",
       "Car              float64\n",
       "Landsize         float64\n",
       "Lattitude        float64\n",
       "Longtitude       float64\n",
       "Regionname        object\n",
       "Propertycount    float64\n",
       "dtype: object"
      ]
     },
     "execution_count": 40,
     "metadata": {},
     "output_type": "execute_result"
    }
   ],
   "source": [
    "df_30centabvnan_colremoved.dtypes"
   ]
  },
  {
   "cell_type": "markdown",
   "metadata": {},
   "source": [
    "# Filling 'Regionname'feature with its mode"
   ]
  },
  {
   "cell_type": "code",
   "execution_count": 41,
   "metadata": {},
   "outputs": [],
   "source": [
    "df_30centabvnan_colremoved['Regionname']=df_30centabvnan_colremoved['Regionname'].fillna(df_30centabvnan_colremoved['Regionname'].mode()[0])"
   ]
  },
  {
   "cell_type": "markdown",
   "metadata": {},
   "source": [
    "# Filling all other features with its median"
   ]
  },
  {
   "cell_type": "code",
   "execution_count": 42,
   "metadata": {},
   "outputs": [],
   "source": [
    "#We can see below all the features with NAN are having outliers,which will affect the data.Hence median is the best method here."
   ]
  },
  {
   "cell_type": "code",
   "execution_count": 43,
   "metadata": {},
   "outputs": [
    {
     "data": {
      "image/png": "[encoded data removed]",
      "text/plain": [
       "<Figure size 432x288 with 1 Axes>"
      ]
     },
     "metadata": {
      "needs_background": "light"
     },
     "output_type": "display_data"
    },
    {
     "data": {
      "image/png": "[encoded data removed]",
      "text/plain": [
       "<Figure size 432x288 with 1 Axes>"
      ]
     },
     "metadata": {
      "needs_background": "light"
     },
     "output_type": "display_data"
    },
    {
     "data": {
      "image/png": "[encoded data removed]",
      "text/plain": [
       "<Figure size 432x288 with 1 Axes>"
      ]
     },
     "metadata": {
      "needs_background": "light"
     },
     "output_type": "display_data"
    },
    {
     "data": {
      "image/png": "[encoded data removed]",
      "text/plain": [
       "<Figure size 432x288 with 1 Axes>"
      ]
     },
     "metadata": {
      "needs_background": "light"
     },
     "output_type": "display_data"
    },
    {
     "data": {
      "image/png": "[encoded data removed]",
      "text/plain": [
       "<Figure size 432x288 with 1 Axes>"
      ]
     },
     "metadata": {
      "needs_background": "light"
     },
     "output_type": "display_data"
    },
    {
     "data": {
      "image/png": "[encoded data removed]",
      "text/plain": [
       "<Figure size 432x288 with 1 Axes>"
      ]
     },
     "metadata": {
      "needs_background": "light"
     },
     "output_type": "display_data"
    },
    {
     "data": {
      "image/png": "[encoded data removed]",
      "text/plain": [
       "<Figure size 432x288 with 1 Axes>"
      ]
     },
     "metadata": {
      "needs_background": "light"
     },
     "output_type": "display_data"
    },
    {
     "data": {
      "image/png": "[encoded data removed]",
      "text/plain": [
       "<Figure size 432x288 with 1 Axes>"
      ]
     },
     "metadata": {
      "needs_background": "light"
     },
     "output_type": "display_data"
    },
    {
     "data": {
      "image/png": "[encoded data removed]",
      "text/plain": [
       "<Figure size 432x288 with 1 Axes>"
      ]
     },
     "metadata": {
      "needs_background": "light"
     },
     "output_type": "display_data"
    }
   ],
   "source": [
    "Outlier=['Distance','Postcode','Bedroom2','Bathroom','Car','Landsize','Lattitude','Longtitude','Propertycount']\n",
    "for i in Outlier:\n",
    "    df_30centabvnan_colremoved.boxplot(column=[i])\n",
    "    plt.show()"
   ]
  },
  {
   "cell_type": "code",
   "execution_count": 44,
   "metadata": {},
   "outputs": [],
   "source": [
    "df_30centabvnan_colremoved=df_30centabvnan_colremoved.fillna(df_30centabvnan_colremoved.median())"
   ]
  },
  {
   "cell_type": "markdown",
   "metadata": {},
   "source": [
    "# 14. determine the number and percentage of columns removed"
   ]
  },
  {
   "cell_type": "code",
   "execution_count": 45,
   "metadata": {},
   "outputs": [
    {
     "data": {
      "text/plain": [
       "(23547, 18)"
      ]
     },
     "execution_count": 45,
     "metadata": {},
     "output_type": "execute_result"
    }
   ],
   "source": [
    "df_30centabvnan_colremoved.shape"
   ]
  },
  {
   "cell_type": "code",
   "execution_count": 46,
   "metadata": {},
   "outputs": [
    {
     "data": {
      "text/plain": [
       "(23678, 21)"
      ]
     },
     "execution_count": 46,
     "metadata": {},
     "output_type": "execute_result"
    }
   ],
   "source": [
    "df.shape"
   ]
  },
  {
   "cell_type": "code",
   "execution_count": 47,
   "metadata": {},
   "outputs": [
    {
     "data": {
      "text/plain": [
       "3"
      ]
     },
     "execution_count": 47,
     "metadata": {},
     "output_type": "execute_result"
    }
   ],
   "source": [
    "number_of_columns_removed=df.shape[1]-df_30centabvnan_colremoved.shape[1]\n",
    "number_of_columns_removed"
   ]
  },
  {
   "cell_type": "markdown",
   "metadata": {},
   "source": [
    "# 15. Determine the number and percentage of rows removed in whole process. Also comment briefly that according to you the amount of data lost is justified or not. "
   ]
  },
  {
   "cell_type": "code",
   "execution_count": 48,
   "metadata": {},
   "outputs": [
    {
     "data": {
      "text/plain": [
       "131"
      ]
     },
     "execution_count": 48,
     "metadata": {},
     "output_type": "execute_result"
    }
   ],
   "source": [
    "number_of_rows_removed=df.shape[0]-df_30centabvnan_colremoved.shape[0]\n",
    "number_of_rows_removed"
   ]
  },
  {
   "cell_type": "code",
   "execution_count": 53,
   "metadata": {},
   "outputs": [
    {
     "data": {
      "text/plain": [
       "0.5532561871779711"
      ]
     },
     "execution_count": 53,
     "metadata": {},
     "output_type": "execute_result"
    }
   ],
   "source": [
    "total_percent_rows_lost=(number_of_rows_removed/df.shape[0])*100\n",
    "total_percent_rows_lost"
   ]
  },
  {
   "cell_type": "markdown",
   "metadata": {},
   "source": [
    "# Comments/justification of removing NAN value process"
   ]
  },
  {
   "cell_type": "raw",
   "metadata": {},
   "source": [
    "1--->133 rows which had all values missing in the row were deleted.(df1)"
   ]
  },
  {
   "cell_type": "raw",
   "metadata": {},
   "source": [
    "2--->We have deleted 3 columns which have move than 30% of data missing in the columns.(df_30centabvnan_colremoved) "
   ]
  },
  {
   "cell_type": "code",
   "execution_count": 49,
   "metadata": {},
   "outputs": [
    {
     "data": {
      "text/plain": [
       "0.5532561871779711"
      ]
     },
     "execution_count": 49,
     "metadata": {},
     "output_type": "execute_result"
    }
   ],
   "source": [
    "total_percent_rows_lost=(number_of_rows_removed/df.shape[0])*100\n",
    "total_percent_rows_lost"
   ]
  },
  {
   "cell_type": "code",
   "execution_count": 50,
   "metadata": {},
   "outputs": [],
   "source": [
    "#The above value is less than 1% ,which is much within range.\n",
    "#Max.10% data loss is allowed in general data preprocessing techniques."
   ]
  },
  {
   "cell_type": "code",
   "execution_count": 51,
   "metadata": {},
   "outputs": [
    {
     "data": {
      "text/plain": [
       "14.285714285714285"
      ]
     },
     "execution_count": 51,
     "metadata": {},
     "output_type": "execute_result"
    }
   ],
   "source": [
    "total_percent_columns_lost=(number_of_columns_removed/df.shape[1])*100\n",
    "total_percent_columns_lost"
   ]
  },
  {
   "cell_type": "code",
   "execution_count": 52,
   "metadata": {},
   "outputs": [],
   "source": [
    "#The above value is less than 14% >10 %,which is not within range.BUt managable.\n",
    "#Instead of deleting column which have move than 30% of data missing in the columns we can try deleting columns with more than 35% data missing.\n",
    "#only two columns would get deleted.then the data lossed will be <10%."
   ]
  },
  {
   "cell_type": "raw",
   "metadata": {},
   "source": [
    "Deleting columns which have more than 5 missing values was a bad choice as many columns(7) were getting deleted and that was out of general range(10%).I have not deleted such columns(7 columns).\n",
    "#check point 10.\n",
    "\n",
    "Price\n",
    "Bedroom2\n",
    "Bathroom\n",
    "Car\n",
    "Landsize\n",
    "Lattitude\n",
    "Longtitude"
   ]
  },
  {
   "cell_type": "code",
   "execution_count": null,
   "metadata": {},
   "outputs": [],
   "source": []
  }
 ],
 "metadata": {
  "kernelspec": {
   "display_name": "Python 3",
   "language": "python",
   "name": "python3"
  },
  "language_info": {
   "codemirror_mode": {
    "name": "ipython",
    "version": 3
   },
   "file_extension": ".py",
   "mimetype": "text/x-python",
   "name": "python",
   "nbconvert_exporter": "python",
   "pygments_lexer": "ipython3",
   "version": "3.8.3"
  }
 },
 "nbformat": 4,
 "nbformat_minor": 4
}
