{
 "cells": [
  {
   "cell_type": "markdown",
   "metadata": {},
   "source": [
    "# 14-->Solving quadratic equation"
   ]
  },
  {
   "cell_type": "code",
   "execution_count": 4,
   "metadata": {},
   "outputs": [],
   "source": [
    "import cmath"
   ]
  },
  {
   "cell_type": "code",
   "execution_count": 6,
   "metadata": {},
   "outputs": [
    {
     "name": "stdout",
     "output_type": "stream",
     "text": [
      "Enter the coefficients of a: 0\n",
      "Enter the coefficients of b: 5\n",
      "Enter the coefficients of c: 6\n",
      "This equation has no real solution,cofficient of 'a' cannot be 0,enter a positive/negative number\n"
     ]
    }
   ],
   "source": [
    "\n",
    "a = int(input(\"Enter the coefficients of a: \"))\n",
    "b = int(input(\"Enter the coefficients of b: \"))\n",
    "c = int(input(\"Enter the coefficients of c: \"))\n",
    "\n",
    "d = (b**2)-(4*a*c) # discriminant\n",
    "\n",
    "if a== 0:\n",
    "    print (\"This equation has no real solution,cofficient of 'a' cannot be 0,enter a positive/negative number\")\n",
    "    \n",
    "elif d<0:\n",
    "    print (\"This equation has no real solution,discriminant(d=b^2-(4*a*c))cannot be negative,enter cofficient accordingly.\")\n",
    "elif d == 0:\n",
    "    x = (-b+cmath.sqrt(d))/(2*a)\n",
    "    print (\"This equation has one solutions: \",x)\n",
    "else:\n",
    "    x1 = (-b+cmath.sqrt(d))/(2*a)\n",
    "    x2 = (-b-cmath.sqrt(d))/(2*a)\n",
    "    print (\"This equation has two solutions: \", x1, \" or\", x2)"
   ]
  },
  {
   "cell_type": "markdown",
   "metadata": {},
   "source": [
    "# 15-->Sum of 'n' natural numbers"
   ]
  },
  {
   "cell_type": "code",
   "execution_count": 7,
   "metadata": {},
   "outputs": [
    {
     "name": "stdout",
     "output_type": "stream",
     "text": [
      "num  = 100\n",
      "Sum of first 100 natural numbers is =  5050.0\n"
     ]
    }
   ],
   "source": [
    "# natural numbers start from 1 to infinity\n",
    "#zero is excluded\n",
    "\n",
    "num = int(input('num  = '))\n",
    "if num <= 0:  \n",
    "    print(\"Enter a positive number\")  \n",
    "\n",
    "else:\n",
    "    \n",
    "    sum=num*(num+1)/2\n",
    "\n",
    "    print(\"Sum of first\", num, \"natural numbers is = \", sum)"
   ]
  },
  {
   "cell_type": "code",
   "execution_count": null,
   "metadata": {},
   "outputs": [],
   "source": []
  }
 ],
 "metadata": {
  "kernelspec": {
   "display_name": "Python 3",
   "language": "python",
   "name": "python3"
  },
  "language_info": {
   "codemirror_mode": {
    "name": "ipython",
    "version": 3
   },
   "file_extension": ".py",
   "mimetype": "text/x-python",
   "name": "python",
   "nbconvert_exporter": "python",
   "pygments_lexer": "ipython3",
   "version": "3.7.4"
  }
 },
 "nbformat": 4,
 "nbformat_minor": 2
}
